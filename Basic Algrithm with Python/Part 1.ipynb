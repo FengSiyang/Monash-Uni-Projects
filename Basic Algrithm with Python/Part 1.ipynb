{
 "cells": [
  {
   "cell_type": "markdown",
   "metadata": {},
   "source": [
    "* # point class:"
   ]
  },
  {
   "cell_type": "code",
   "execution_count": 23,
   "metadata": {
    "collapsed": true
   },
   "outputs": [],
   "source": [
    "from math import *\n",
    "class Point:\n",
    "    def __init__(self, x, y):\n",
    "        self.x = x\n",
    "        self.y = y\n",
    "        \n",
    "    def __str__(self):\n",
    "        return \"(\" + str(self.x) + \", \" + str(self.y) + \")\"\n",
    "        \n",
    "    def set_point(self, newx, newy):\n",
    "        self.x = newx\n",
    "        self.y = newy\n",
    "        \n",
    "    def get_point(self):\n",
    "        return self.x, self.y\n",
    "    \n",
    "    def distance_from_origin(self):\n",
    "        return sqrt(self.x * self.x + self.y * self.y)\n",
    "    \n",
    "    def distance(self, other):\n",
    "        dx = self.x - other.x\n",
    "        dy = self.y - other.y\n",
    "        return round(sqrt(dx * dx + dy * dy), 2)\n",
    "    \n",
    "    def translate(self, dx, dy):\n",
    "        self.x += dx\n",
    "        self.y += dy\n",
    "    \n",
    "    def print_point(self):\n",
    "        print(self.__str__())\n",
    "    \n",
    "    def manhattan_dis(self, a):\n",
    "        return abs(self.x - a.x) + abs(self.y - a.y)\n",
    "        "
   ]
  },
  {
   "cell_type": "markdown",
   "metadata": {},
   "source": [
    "* # point set class:"
   ]
  },
  {
   "cell_type": "code",
   "execution_count": 24,
   "metadata": {
    "collapsed": true
   },
   "outputs": [],
   "source": [
    "from math import *\n",
    "\n",
    "class Point_set:\n",
    "    def __init__(self, new_set):\n",
    "        self.p_set = new_set\n",
    "        \n",
    "    def p_num(self):\n",
    "        return len(self.p_set)\n",
    "    \n",
    "    def isEmpty(self):\n",
    "        if len(self.p_set) is 0:\n",
    "            return True\n",
    "        return False\n",
    "    \n",
    "    def set_p(self, pos, point):\n",
    "        self.p_set[pos] = point\n",
    "        \n",
    "    def get_p(self, i):\n",
    "        return self.p_set[i]\n",
    "    \n",
    "    def insert_p(self, pos, point):\n",
    "        self.p_set.insert(pos, point)\n",
    "        \n",
    "    def append_p(self, point):\n",
    "        self.p_set.append(point)\n",
    "        \n",
    "    def delete_p(self, point):\n",
    "        self.p_set.remove(point)\n",
    "        \n",
    "    def print_str(self):\n",
    "        set_str = [i.__str__() for i in self.p_set]\n",
    "        return set_str\n",
    "    \n",
    "    def get_distance(self, i, b):  # compare without the point list point\n",
    "        return self.p_set[i].manhattan_dis(b)\n",
    "    \n",
    "    def get_dis(self, i, j):  # compare within the point list point\n",
    "        return self.p_set[i].manhattan_dis(self.p_set[j])\n",
    "    \n",
    "    def sort(self):\n",
    "        for i in range(self.p_num() - 1):\n",
    "            for j in range(i, self.p_num()):\n",
    "                if self.p_set[i].x > self.p_set[j].x:\n",
    "                    temp = self.p_set[i]\n",
    "                    self.p_set[i] = self.p_set[j]\n",
    "                    self.p_set[j] = temp\n",
    "    \n",
    "    \n",
    "    def nearest_BF(self):\n",
    "        num = self.p_num()\n",
    "        if num is 0 or num is 1:\n",
    "            return float('inf'), Point(0, 0), Point(0, 0)\n",
    "        else:\n",
    "            min_dis = self.get_dis(0, 1)\n",
    "            p1 = Point(0, 0) # initiation\n",
    "            p2 = Point(0, 0)\n",
    "            for i in range(num - 1):\n",
    "                for j in range(i + 1, num):\n",
    "                    dis = self.get_dis(i, j)\n",
    "                    if min_dis > dis:\n",
    "                        min_dis = dis\n",
    "                        p1 = self.p_set[i]\n",
    "                        p2 = self.p_set[j]\n",
    "                        #print(p1, p2)\n",
    "            return min_dis, p1, p2\n",
    "            \n",
    "    def nearest_DC(self):\n",
    "        num = self.p_num()\n",
    "        if num <= 3:  # if the number of point is not larger than 3, use brute force\n",
    "            return self.nearest_BF()\n",
    "        else:\n",
    "            \n",
    "            # divided list into n/2 by x value\n",
    "            mid = num//2\n",
    "            left = Point_set(self.p_set[:mid])\n",
    "            right = Point_set(self.p_set[mid:])\n",
    "            mid_x = (self.p_set[mid-1].x + self.p_set[mid].x)/2.0\n",
    "            \n",
    "            # conquer and recursive\n",
    "            l_dis, lp1, lp2 = left.nearest_DC()\n",
    "            r_dis, rp1, rp2 = right.nearest_DC()\n",
    "            #print(type(lp1))\n",
    "            \n",
    "            d = min(l_dis, r_dis) # calculate the middle x number\n",
    "            \n",
    "            # solve middle band\n",
    "            for i in left.p_set:\n",
    "                if mid_x - i.x <= d:\n",
    "                    for j in right.p_set:\n",
    "                        if abs(i.x - j.x) <= d and abs(i.y - j.y) <= d:\n",
    "                            p_dis = i.manhattan_dis(j)\n",
    "                            if p_dis <= d:\n",
    "                                return p_dis, i.get_point(), j.get_point() # band is smaller\n",
    "            \n",
    "            # if band is larger\n",
    "            if l_dis <= r_dis:\n",
    "                return d, lp1, lp2\n",
    "            else:\n",
    "                return d, rp1, rp2\n",
    "        "
   ]
  },
  {
   "cell_type": "markdown",
   "metadata": {},
   "source": [
    "# 1. ADT Point Class\n",
    "Use the ADT class for points in 2-dimensional Euclidean space discussed in the lecture in Week 1 (see lecture notes), and extend the class this with a distance function for pairwise Manhattan distance."
   ]
  },
  {
   "cell_type": "code",
   "execution_count": 25,
   "metadata": {},
   "outputs": [
    {
     "name": "stdout",
     "output_type": "stream",
     "text": [
      "String display: (4, 2)\n",
      "Get point: (3, 4)\n",
      "distance from origin: 5.0\n",
      "Print new point:\n",
      "(9, 6)\n",
      "Distance: 6.32\n",
      "Manhattan Distance : 8\n"
     ]
    }
   ],
   "source": [
    "a = Point(4, 2)\n",
    "print(\"String display:\", a.__str__())\n",
    "a.set_point(3, 4)\n",
    "print(\"Get point:\", a.get_point())\n",
    "print(\"distance from origin:\", a.distance_from_origin())\n",
    "b = Point(7, 2)\n",
    "b.translate(2, 4)\n",
    "print(\"Print new point:\")\n",
    "b.print_point()\n",
    "print(\"Distance:\", a.distance(b))\n",
    "print(\"Manhattan Distance :\", a.manhattan_dis(b))"
   ]
  },
  {
   "cell_type": "markdown",
   "metadata": {},
   "source": [
    "# 2. ADT Point Set Class\n",
    "Based on this point class, implement an ADT class that models a point set. It will need a constructor as well as functions to insert and delete points in the set (you do not need to implement union, intersection, or other set operations at this point)."
   ]
  },
  {
   "cell_type": "code",
   "execution_count": 26,
   "metadata": {
    "collapsed": true
   },
   "outputs": [],
   "source": [
    "c = Point(3, 5)\n",
    "d = Point(6, 2)\n",
    "e = Point(10, 5)\n",
    "f = Point(4, 1)\n",
    "g = Point(9, 1)\n",
    "h = Point(5, 5)\n",
    "i = Point(3, 7)"
   ]
  },
  {
   "cell_type": "code",
   "execution_count": 27,
   "metadata": {},
   "outputs": [
    {
     "name": "stdout",
     "output_type": "stream",
     "text": [
      "Test if there is no point: False\n",
      "Point set contains (after insert): ['(3, 4)', '(3, 7)', '(9, 6)', '(3, 5)', '(6, 2)', '(4, 1)', '(9, 1)', '(5, 5)']\n",
      "Point set contains (after delete): ['(3, 7)', '(9, 6)', '(3, 5)', '(6, 2)', '(4, 1)', '(9, 1)', '(5, 5)']\n",
      "['(3, 4)', '(3, 7)', '(9, 6)', '(3, 5)', '(6, 2)', '(4, 1)', '(9, 1)', '(5, 5)']\n",
      "Total number of points: 8\n",
      "Distance between point 1 and point 3: 8\n"
     ]
    }
   ],
   "source": [
    "x = Point_set([a, b, c, d, f, g, h])\n",
    "print(\"Test if there is no point:\", x.isEmpty())\n",
    "x.insert_p(1, i)\n",
    "print(\"Point set contains (after insert):\", x.print_str())\n",
    "x.delete_p(a)\n",
    "print(\"Point set contains (after delete):\", x.print_str())\n",
    "x.insert_p(0, a)\n",
    "print(x.print_str())\n",
    "print(\"Total number of points:\", x.p_num())\n",
    "print(\"Distance between point 1 and point 3:\", x.get_dis(0, 2))"
   ]
  },
  {
   "cell_type": "markdown",
   "metadata": {},
   "source": [
    "# 3. Closest Pair\n",
    "Extend the point set class with a method to find the closest pair of points. Your method should\n",
    "return the coordinates of the two points that have the smallest pairwise distance in the set as well\n",
    "as this distance. Bear in mind that we are now using Manhattan distance. Give a brief discussion\n",
    "what (if anything) you need to change in the algorithm to accomodate Manhattan distance and\n",
    "justify your answer_ precisely. Implement two diff erent versions as methods in the point set class\n",
    "you have implemented above:"
   ]
  },
  {
   "cell_type": "markdown",
   "metadata": {},
   "source": [
    "##### a. Brute Force Implementation"
   ]
  },
  {
   "cell_type": "code",
   "execution_count": 20,
   "metadata": {},
   "outputs": [
    {
     "name": "stdout",
     "output_type": "stream",
     "text": [
      "The nearest distance is: 1 \n",
      "And the two points are: (3, 4) (3, 5)\n"
     ]
    }
   ],
   "source": [
    "dis, po1, po2 = x.nearest_BF()\n",
    "print(\"The nearest distance is:\", dis, \"\\nAnd the two points are:\", po1, po2)"
   ]
  },
  {
   "cell_type": "markdown",
   "metadata": {},
   "source": [
    "##### b. Divide & Conquer Implementation"
   ]
  },
  {
   "cell_type": "code",
   "execution_count": 28,
   "metadata": {},
   "outputs": [
    {
     "name": "stdout",
     "output_type": "stream",
     "text": [
      "The nearest distance is: 1 \n",
      "And the two points are: (3, 4) (3, 5)\n"
     ]
    }
   ],
   "source": [
    "x.sort()\n",
    "dis, po1, po2 = x.nearest_DC()\n",
    "print(\"The nearest distance is:\", dis, \"\\nAnd the two points are:\", po1, po2)"
   ]
  },
  {
   "cell_type": "markdown",
   "metadata": {},
   "source": [
    "# 4. Runtime - Empirical Analysis\n",
    "Perform an empirical runtime evaluation for both your algorithms using the Python timeit library. Plot runtime graphs for both algorithms for a reasonable rage of input sizes (you do not need to plot these using Python, but you are of course welcome to do so). Discuss briefly whether your plots substantiate your expectations."
   ]
  },
  {
   "cell_type": "code",
   "execution_count": 138,
   "metadata": {
    "collapsed": true
   },
   "outputs": [],
   "source": [
    "import random\n",
    "# print(x.print_str())\n",
    "def test_set():\n",
    "    ls1 = Point_set([])\n",
    "    ls2 = Point_set([])\n",
    "    ls3 = Point_set([])\n",
    "    ls4 = Point_set([])\n",
    "    ls5 = Point_set([])\n",
    "    ls6 = Point_set([])\n",
    "    ls7 = Point_set([])\n",
    "    \n",
    "    ls = [ls1, ls2, ls3, ls4, ls5, ls6, ls7]\n",
    "    ran_num = [10, 50, 100, 200, 400, 800, 1000]\n",
    "    for i in range(10):\n",
    "        ls1.append_p(Point(random.randint(0, 1000), random.randint(0, 1000)))\n",
    "    for i in range(50):\n",
    "        ls2.append_p(Point(random.randint(0, 1000), random.randint(0, 1000)))\n",
    "    for i in range(100):\n",
    "        ls3.append_p(Point(random.randint(0, 1000), random.randint(0, 1000)))\n",
    "    for i in range(200):\n",
    "        ls4.append_p(Point(random.randint(0, 1000), random.randint(0, 1000)))\n",
    "    for i in range(400):\n",
    "        ls5.append_p(Point(random.randint(0, 1000), random.randint(0, 1000)))\n",
    "    for i in range(800):\n",
    "        ls6.append_p(Point(random.randint(0, 1000), random.randint(0, 1000)))\n",
    "    for i in range(1000):\n",
    "        ls7.append_p(Point(random.randint(0, 1000), random.randint(0, 1000)))\n",
    "    return ls\n",
    "\n",
    "ls = test_set()"
   ]
  },
  {
   "cell_type": "code",
   "execution_count": 144,
   "metadata": {},
   "outputs": [
    {
     "name": "stdout",
     "output_type": "stream",
     "text": [
      "0.07247071314850473\n",
      "1.1306175898080255\n",
      "4.367298885154014\n",
      "17.11317678287014\n",
      "68.40440276057234\n",
      "285.2177600424711\n",
      "281.04598619713215\n"
     ]
    }
   ],
   "source": [
    "import timeit\n",
    "def test_BF():\n",
    "    a = timeit.Timer('ls[0].nearest_BF()', setup = 'from __main__ import ls')\n",
    "    print(a.timeit(number = 500))\n",
    "    b = timeit.Timer('ls[1].nearest_BF()', setup = 'from __main__ import ls')\n",
    "    print(b.timeit(number = 500))\n",
    "    c = timeit.Timer('ls[2].nearest_BF()', setup = 'from __main__ import ls')\n",
    "    print(c.timeit(number = 500))\n",
    "    d = timeit.Timer('ls[3].nearest_BF()', setup = 'from __main__ import ls')\n",
    "    print(d.timeit(number = 500))\n",
    "    e = timeit.Timer('ls[4].nearest_BF()', setup = 'from __main__ import ls')\n",
    "    print(e.timeit(number = 500))\n",
    "    f = timeit.Timer('ls[5].nearest_BF()', setup = 'from __main__ import ls')\n",
    "    print(f.timeit(number = 500))\n",
    "    g = timeit.Timer('ls[6].nearest_BF()', setup = 'from __main__ import ls')\n",
    "    print(f.timeit(number = 500))\n",
    "\n",
    "test_BF()"
   ]
  },
  {
   "cell_type": "code",
   "execution_count": 145,
   "metadata": {
    "collapsed": true
   },
   "outputs": [],
   "source": [
    "ls[0].sort()\n",
    "ls[1].sort()\n",
    "ls[2].sort()\n",
    "ls[3].sort()\n",
    "ls[4].sort()\n",
    "ls[5].sort()\n",
    "ls[6].sort()"
   ]
  },
  {
   "cell_type": "code",
   "execution_count": 146,
   "metadata": {},
   "outputs": [
    {
     "name": "stdout",
     "output_type": "stream",
     "text": [
      "0.05849336400569882\n",
      "0.24383082640270004\n",
      "0.5869339939836209\n",
      "1.0857511944795988\n",
      "2.9346182976460113\n",
      "6.421559723941755\n",
      "6.164778977172318\n"
     ]
    }
   ],
   "source": [
    "def test_DC():\n",
    "    \n",
    "    a = timeit.Timer('ls[0].nearest_DC()', setup = 'from __main__ import ls')\n",
    "    print(a.timeit(number = 500))\n",
    "    b = timeit.Timer('ls[1].nearest_DC()', setup = 'from __main__ import ls')\n",
    "    print(b.timeit(number = 500))\n",
    "    c = timeit.Timer('ls[2].nearest_DC()', setup = 'from __main__ import ls')\n",
    "    print(c.timeit(number = 500))\n",
    "    d = timeit.Timer('ls[3].nearest_DC()', setup = 'from __main__ import ls')\n",
    "    print(d.timeit(number = 500))\n",
    "    e = timeit.Timer('ls[4].nearest_DC()', setup = 'from __main__ import ls')\n",
    "    print(e.timeit(number = 500))\n",
    "    f = timeit.Timer('ls[5].nearest_DC()', setup = 'from __main__ import ls')\n",
    "    print(f.timeit(number = 500))\n",
    "    g = timeit.Timer('ls[6].nearest_DC()', setup = 'from __main__ import ls')\n",
    "    print(f.timeit(number = 500))\n",
    "    \n",
    "test_DC()"
   ]
  },
  {
   "cell_type": "code",
   "execution_count": 147,
   "metadata": {},
   "outputs": [
    {
     "data": {
      "image/png": "[encoded data removed]",
      "text/plain": [
       "<matplotlib.figure.Figure at 0x296efab8d68>"
      ]
     },
     "metadata": {
      "image/png": {
       "height": 263,
       "width": 390
      }
     },
     "output_type": "display_data"
    }
   ],
   "source": [
    "%matplotlib inline\n",
    "%config InlineBackend.figure_format = 'retina'\n",
    "import matplotlib.pyplot as plt\n",
    "import numpy as np\n",
    "from scipy.optimize import curve_fit\n",
    "ran_num = [10, 50, 100, 200, 400, 800, 1000]\n",
    "time_BF = [0.07247071314850473,1.1306175898080255, 4.367298885154014, 17.11317678287014, 68.40440276057234, 285.2177600424711, 281.04598619713215]\n",
    "time_DC = [0.05849336400569882, 0.24383082640270004, 0.5869339939836209, 1.0857511944795988, 2.9346182976460113, 6.421559723941755, 6.164778977172318]\n",
    "\n",
    "def func(x, a, b):\n",
    "    return  a * np.exp(b/x)\n",
    "\n",
    "popt1, pcov1 = curve_fit(func, ran_num, time_BF)\n",
    "popt2, pcov2 = curve_fit(func, ran_num, time_DC)\n",
    "\n",
    "a1 = popt1[0]\n",
    "b1 = popt1[1]\n",
    "a2 = popt2[0]\n",
    "b2 = popt2[1]\n",
    "\n",
    "BFval = func(ran_num, a1, b1)\n",
    "DCval = func(ran_num, a2, b2)\n",
    "\n",
    "BFplot = plt.plot(ran_num, BFval, 'r', label='Brute Force')\n",
    "DCplot = plt.plot(ran_num, DCval, 'b', label='Divide and Conquer')\n",
    "\n",
    "plt.xlabel('Points number')\n",
    "plt.ylabel('Time(s)')\n",
    "plt.legend(loc = 2)\n",
    "plt.show()"
   ]
  },
  {
   "cell_type": "markdown",
   "metadata": {},
   "source": [
    "* For brute force algorithm:\n",
    "    $T(N) = O(N^2)$\n",
    "* For divide and conquer algorithm:\n",
    "    $T(N) = O(NlogN)$\n",
    "    \n",
    "When the N grows larger, the time complex of brute force will be higher than divide and conquer. And, the time for brute force will increase faster than  divide and conquer.\n",
    "In the plot, the red line represents the time complex of Brute force algorithm, and the blue line represents the divide and conquer algorithm. From the plot, it is easy to substantiate the expectation."
   ]
  },
  {
   "cell_type": "markdown",
   "metadata": {},
   "source": [
    "# 5. Recurrence Relation\n",
    "Define the runtime recurrence relation that would arise if you would not pass sorted lists down the recursion but instead would sort the lists explicitly on each level of the recursion."
   ]
  },
  {
   "cell_type": "markdown",
   "metadata": {
    "collapsed": true
   },
   "source": [
    "### Answer:\n",
    "###### The time complex of sorting :\n",
    "* Bubble Sort:\n",
    "    $T(n) = O(n^2)$ (Worst)\n",
    "    $T(n) = O(n)$   (Best)\n",
    "* Select Sort:\n",
    "    $T(n) = O(n^2)$ (Worst)\n",
    "    $T(n) = O(n^2)$ (Best)\n",
    "* Insert Sort:\n",
    "    $T(n) = O(n^2)$ (Worst)\n",
    "    $T(n) = O(n)$   (Best)\n",
    "* Merge Sort:\n",
    "    $T(n) = O(nlogn)$ (Worst)\n",
    "    $T(n) = O(nlogn)$ (Best)\n",
    "    \n",
    "###### The time complex of divide and conquer:\n",
    "  $T(n) = O(nlogn)$\n",
    "\n",
    "If the lists sort on each level of the recursion, every time the recuresion running, it will run a sorting in a sorted list. Even the sorting is in the best situation, there is still a time wasted, $O(n)$ or $O(n^2)$ or $O(nlogn)$. For each divide with conquer, the time complex would be $O(n^2logn)$ in best situation. \n",
    "If the sorting is done before the recursion, there is only a sorting time complex before the divide and conquer and in the worst situation, the time complex would be $O(n^2 + nlogn)$.\n",
    "$$n^2logn - (n^2 + nlogn)$$\n",
    "$$= n^2logn - n^2(\\frac{n-1}{n}logn - 1)$$ \n",
    "$$= n^2(\\frac{n-1}{n}logn - 1)$$\n",
    "If the n is larger than 13, there will be a positive result."
   ]
  },
  {
   "cell_type": "markdown",
   "metadata": {},
   "source": [
    "# Visualisation\n",
    "Visualize the point sets, the splitlines, and ultimately the results"
   ]
  },
  {
   "cell_type": "code",
   "execution_count": 48,
   "metadata": {
    "collapsed": true
   },
   "outputs": [],
   "source": [
    "import matplotlib.pyplot as plt\n",
    "import numpy as np\n",
    "from pylab import *\n",
    "\n",
    "def basic_plot(p_set):\n",
    "    xp = []\n",
    "    yp = []\n",
    "    for i in p_set.p_set:\n",
    "        xp.append(i.get_point()[0])\n",
    "        yp.append(i.get_point()[1])\n",
    "    \n",
    "    figure(figsize=(16,14))\n",
    "    plt.scatter(xp, yp)\n",
    "    plt.xlabel('x')\n",
    "    plt.ylabel('y')\n",
    "    #plt.show()\n"
   ]
  },
  {
   "cell_type": "code",
   "execution_count": 54,
   "metadata": {
    "collapsed": true
   },
   "outputs": [],
   "source": [
    "def nearest_mid(p_set):\n",
    "    p_set.sort()\n",
    "    basic_plot(p_set)\n",
    "    mid_n = p_set.p_num()//2\n",
    "    mid_x = (p_set.get_p(mid_n - 1).get_point()[0] + p_set.get_p(mid_n).get_point()[0])/2.0\n",
    "    plt.vlines(mid_x,0, 1000, color = 'k', linestyle = 'solid', label='Middle Line')\n",
    "    \n",
    "    (d, pp1, pp2) = p_set.nearest_DC()\n",
    "    \"\"\"\n",
    "    xx = pp1[0]\n",
    "    x_ymin = min(pp1[1], pp2[1])\n",
    "    x_ymax = max(pp1[1], pp2[1])\n",
    "    \n",
    "    yy = pp2[1]\n",
    "    y_xmin = min(pp1[0], pp2[0])\n",
    "    y_xmax = max(pp1[0], pp2[0])\n",
    "    \"\"\"\n",
    "    xx = pp1.get_point()[0]\n",
    "    x_ymin = min(pp1.get_point()[1], pp2.get_point()[1])\n",
    "    x_ymax = max(pp1.get_point()[1], pp2.get_point()[1])\n",
    "    \n",
    "    yy = pp2.get_point()[1]\n",
    "    y_xmin = min(pp1.get_point()[0], pp2.get_point()[0])\n",
    "    y_xmax = max(pp1.get_point()[0], pp2.get_point()[0])\n",
    "    \n",
    "    plt.vlines(xx,x_ymin, x_ymax, color = 'r', linestyle = 'solid', label='Manhatton Distance', linewidth=2.5)\n",
    "    plt.plot([y_xmin, y_xmax],[yy, yy], '-', color = 'r', linestyle = 'solid', linewidth=2.5)\n",
    "    \n",
    "    plt.legend(loc = 2)\n",
    "    plt.show()\n"
   ]
  },
  {
   "cell_type": "code",
   "execution_count": 50,
   "metadata": {
    "scrolled": false
   },
   "outputs": [
    {
     "data": {
      "text/plain": [
       "['(704, 304)',\n",
       " '(613, 177)',\n",
       " '(847, 799)',\n",
       " '(781, 528)',\n",
       " '(821, 312)',\n",
       " '(152, 748)',\n",
       " '(818, 935)',\n",
       " '(586, 235)',\n",
       " '(74, 347)',\n",
       " '(445, 607)']"
      ]
     },
     "execution_count": 50,
     "metadata": {},
     "output_type": "execute_result"
    }
   ],
   "source": [
    "import random\n",
    "newList = Point_set([])\n",
    "for i in range(10):\n",
    "    newList.append_p(Point(random.randint(0, 1000), random.randint(0, 1000)))\n",
    "    \n",
    "newList.print_str()"
   ]
  },
  {
   "cell_type": "code",
   "execution_count": 56,
   "metadata": {
    "scrolled": false
   },
   "outputs": [
    {
     "data": {
      "image/png": "[encoded data removed]",
      "text/plain": [
       "<matplotlib.figure.Figure at 0x1f775374f28>"
      ]
     },
     "metadata": {},
     "output_type": "display_data"
    }
   ],
   "source": [
    "nearest_mid(newList)"
   ]
  }
 ],
 "metadata": {
  "anaconda-cloud": {},
  "kernelspec": {
   "display_name": "Python 3",
   "language": "python",
   "name": "python3"
  },
  "language_info": {
   "codemirror_mode": {
    "name": "ipython",
    "version": 3
   },
   "file_extension": ".py",
   "mimetype": "text/x-python",
   "name": "python",
   "nbconvert_exporter": "python",
   "pygments_lexer": "ipython3",
   "version": "3.6.2"
  }
 },
 "nbformat": 4,
 "nbformat_minor": 2
}
